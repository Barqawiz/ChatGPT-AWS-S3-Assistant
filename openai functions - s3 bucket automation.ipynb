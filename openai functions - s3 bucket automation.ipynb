{
 "cells": [
  {
   "cell_type": "markdown",
   "id": "c4337351",
   "metadata": {},
   "source": [
    "The code location: https://github.com/Barqawiz/ChatGPT-AWS-S3-Assistant"
   ]
  },
  {
   "cell_type": "code",
   "execution_count": null,
   "id": "ed2fd156",
   "metadata": {},
   "outputs": [],
   "source": [
    "# uncomment below if you did not install the requirements\n",
    "#! pip install openai==0.27.8\n",
    "#! pip install boto3==1.26.155\n",
    "#! pip install tenacity==8.2.2\n",
    "#! pip install python-dotenv==1.0.0"
   ]
  },
  {
   "cell_type": "code",
   "execution_count": 1,
   "id": "9617e95e",
   "metadata": {},
   "outputs": [],
   "source": [
    "import openai\n",
    "from tenacity import (\n",
    "    retry,\n",
    "    stop_after_attempt,\n",
    "    wait_random_exponential,\n",
    ") \n",
    "import json\n",
    "import boto3\n",
    "import os\n",
    "import datetime\n",
    "from urllib.request import urlretrieve"
   ]
  },
  {
   "cell_type": "markdown",
   "id": "c8fb09f0",
   "metadata": {},
   "source": [
    "## Initials"
   ]
  },
  {
   "cell_type": "code",
   "execution_count": 2,
   "id": "48f6c807",
   "metadata": {},
   "outputs": [
    {
     "data": {
      "text/plain": [
       "True"
      ]
     },
     "execution_count": 2,
     "metadata": {},
     "output_type": "execute_result"
    }
   ],
   "source": [
    "from dotenv import load_dotenv\n",
    "# if opened with colab, ensure to upload the .env file\n",
    "load_dotenv() "
   ]
  },
  {
   "cell_type": "code",
   "execution_count": 3,
   "id": "6d5b1991",
   "metadata": {},
   "outputs": [],
   "source": [
    "openai.api_key = os.environ.get(\"OPENAI_API_KEY\")"
   ]
  },
  {
   "cell_type": "code",
   "execution_count": 4,
   "id": "a571b8d7",
   "metadata": {},
   "outputs": [],
   "source": [
    "# Create S3 client\n",
    "s3_client = boto3.client('s3')"
   ]
  },
  {
   "cell_type": "code",
   "execution_count": 5,
   "id": "da4a804b",
   "metadata": {},
   "outputs": [],
   "source": [
    "# Functions dict for the GPT model\n",
    "functions = [\n",
    "    {\n",
    "        \"name\": \"list_buckets\",\n",
    "        \"description\": \"List all available S3 buckets\",\n",
    "        \"parameters\": {\n",
    "            \"type\": \"object\",\n",
    "            \"properties\": {}\n",
    "        }\n",
    "    },\n",
    "    {\n",
    "        \"name\": \"list_objects\",\n",
    "        \"description\": \"List the objects or files inside a given S3 bucket\",\n",
    "        \"parameters\": {\n",
    "            \"type\": \"object\",\n",
    "            \"properties\": {\n",
    "                \"bucket\": {\"type\": \"string\", \"description\": \"The name of the S3 bucket\"},\n",
    "                \"prefix\": {\"type\": \"string\", \"description\": \"The folder path in the S3 bucket\"},\n",
    "            },\n",
    "            \"required\": [\"bucket\"],\n",
    "        },\n",
    "    },\n",
    "    {\n",
    "        \"name\": \"download_file\",\n",
    "        \"description\": \"Download a specific file from an S3 bucket to a local distribution folder.\",\n",
    "        \"parameters\": {\n",
    "            \"type\": \"object\",\n",
    "            \"properties\": {\n",
    "                \"bucket\": {\"type\": \"string\", \"description\": \"The name of the S3 bucket\"},\n",
    "                \"key\": {\"type\": \"string\", \"description\": \"The path to the file inside the bucket\"},\n",
    "                \"directory\": {\"type\": \"string\", \"description\": \"The local destination directory to download the file, should be specificed by the user.\"},\n",
    "            },\n",
    "            \"required\": [\"bucket\", \"key\", \"directory\"],\n",
    "        }\n",
    "    },\n",
    "    {\n",
    "        \"name\": \"upload_file\",\n",
    "        \"description\": \"Upload a file to an S3 bucket\",\n",
    "        \"parameters\": {\n",
    "            \"type\": \"object\",\n",
    "            \"properties\": {\n",
    "                \"source\": {\"type\": \"string\", \"description\": \"The local source path or remote URL\"},\n",
    "                \"bucket\": {\"type\": \"string\", \"description\": \"The name of the S3 bucket\"},\n",
    "                \"key\": {\"type\": \"string\", \"description\": \"The path to the file inside the bucket\"},\n",
    "                \"is_remote_url\": {\"type\": \"boolean\", \"description\": \"Is the provided source a URL (True) or local path (False)\"},\n",
    "            },\n",
    "            \"required\": [\"source\", \"bucket\", \"key\", \"is_remote_url\"],\n",
    "        }\n",
    "    },\n",
    "    {\n",
    "        \"name\": \"search_s3_objects\",\n",
    "        \"description\": \"Search for a specific file name inside an S3 bucket\",\n",
    "        \"parameters\": {\n",
    "            \"type\": \"object\",\n",
    "            \"properties\": {\n",
    "                \"search_name\": {\"type\": \"string\", \"description\": \"The name of the file you want to search for\"},\n",
    "                \"bucket\": {\"type\": \"string\", \"description\": \"The name of the S3 bucket\"},\n",
    "                \"prefix\": {\"type\": \"string\", \"description\": \"The folder path in the S3 bucket\"},\n",
    "                \"exact_match\": {\"type\": \"boolean\", \"description\": \"Indicates if search should match the file name exactly, set False to compating part of string (constains)\"}\n",
    "            },\n",
    "            \"required\": [\"search_name\"],\n",
    "        },\n",
    "    }\n",
    "]"
   ]
  },
  {
   "cell_type": "markdown",
   "id": "3cfd8cf9",
   "metadata": {},
   "source": [
    "## Helper Functions"
   ]
  },
  {
   "cell_type": "code",
   "execution_count": 6,
   "id": "cf30f14e",
   "metadata": {},
   "outputs": [],
   "source": [
    "def datetime_converter(obj):\n",
    "    if isinstance(obj, datetime.datetime):\n",
    "        return obj.isoformat()\n",
    "    raise TypeError(f\"Object of type {obj.__class__.__name__} is not JSON serializable\")"
   ]
  },
  {
   "cell_type": "code",
   "execution_count": 7,
   "id": "37736b74",
   "metadata": {},
   "outputs": [],
   "source": [
    "def list_buckets():\n",
    "    response = s3_client.list_buckets()\n",
    "    return json.dumps(response['Buckets'], default=datetime_converter)\n",
    "\n",
    "def list_objects(bucket, prefix=''):\n",
    "    response = s3_client.list_objects_v2(Bucket=bucket, Prefix=prefix)\n",
    "    return json.dumps(response.get('Contents', []), default=datetime_converter)\n",
    "\n",
    "def download_file(bucket, key, directory):\n",
    "    \n",
    "    filename = os.path.basename(key)\n",
    "    \n",
    "    # Resolve destination to the correct file path\n",
    "    destination = os.path.join(directory, filename)\n",
    "    \n",
    "    s3_client.download_file(bucket, key, destination)\n",
    "    return json.dumps({\"status\": \"success\", \"bucket\": bucket, \"key\": key, \"destination\": destination})\n",
    "\n",
    "def upload_file(source, bucket, key, is_remote_url=False):\n",
    "    if is_remote_url:\n",
    "        file_name = os.path.basename(source)\n",
    "        urlretrieve(source, file_name)\n",
    "        source = file_name\n",
    "       \n",
    "    s3_client.upload_file(source, bucket, key)\n",
    "    return json.dumps({\"status\": \"success\", \"source\": source, \"bucket\": bucket, \"key\": key})\n",
    "\n",
    "def search_s3_objects(search_name, bucket=None, prefix='', exact_match=True):\n",
    "    search_name = search_name.lower()\n",
    "    \n",
    "    if bucket is None:\n",
    "        buckets_response = json.loads(list_buckets())\n",
    "        buckets = [bucket_info[\"Name\"] for bucket_info in buckets_response]\n",
    "    else:\n",
    "        buckets = [bucket]\n",
    "\n",
    "    results = []\n",
    "\n",
    "    for bucket_name in buckets:\n",
    "        objects_response = json.loads(list_objects(bucket_name, prefix))\n",
    "        if exact_match:\n",
    "            bucket_results = [obj for obj in objects_response if search_name == obj['Key'].lower()]\n",
    "        else:\n",
    "            bucket_results = [obj for obj in objects_response if search_name in obj['Key'].lower()]\n",
    "\n",
    "        if bucket_results:\n",
    "            results.extend([{\"Bucket\": bucket_name, \"Object\": obj} for obj in bucket_results])\n",
    "\n",
    "    return json.dumps(results)"
   ]
  },
  {
   "cell_type": "code",
   "execution_count": 8,
   "id": "03c3d555",
   "metadata": {},
   "outputs": [],
   "source": [
    "available_functions = {\n",
    "    \"list_buckets\": list_buckets,\n",
    "    \"list_objects\": list_objects,\n",
    "    \"download_file\": download_file,\n",
    "    \"upload_file\": upload_file,\n",
    "    \"search_s3_objects\": search_s3_objects\n",
    "}"
   ]
  },
  {
   "cell_type": "markdown",
   "id": "447b03ca",
   "metadata": {},
   "source": [
    "## chatBot"
   ]
  },
  {
   "cell_type": "code",
   "execution_count": 9,
   "id": "796acfdd",
   "metadata": {},
   "outputs": [],
   "source": [
    "@retry(wait=wait_random_exponential(min=1, max=60), stop=stop_after_attempt(6))\n",
    "def chat_completion_request(messages, functions=None, function_call='auto', \n",
    "                            model_name='gpt-4-0613'):\n",
    "    # model name: gpt-3.5-turbo-0613\n",
    "    if functions is not None:\n",
    "        return openai.ChatCompletion.create(\n",
    "            model=model_name,\n",
    "            messages=messages,\n",
    "            functions=functions,\n",
    "            function_call=function_call)\n",
    "    else:\n",
    "        return openai.ChatCompletion.create(\n",
    "            model=model_name,\n",
    "            messages=messages)"
   ]
  },
  {
   "cell_type": "markdown",
   "id": "b5ce70f8",
   "metadata": {},
   "source": [
    "### manual conversation flow"
   ]
  },
  {
   "cell_type": "code",
   "execution_count": 10,
   "id": "3e2e9192",
   "metadata": {},
   "outputs": [],
   "source": [
    "def run_manual_conversation(user_input, topic=\"s3 bucket functions.\", is_log=False):\n",
    "\n",
    "    system_message=f\"Don't make assumptions about what values to plug into functions. Ask for clarification if a user request is ambiguous. If the user ask question not related to {topic} response your scope is {topic} only.\"\n",
    "    \n",
    "    messages = [{\"role\": \"system\", \"content\": system_message},\n",
    "                {\"role\": \"user\", \"content\": user_input}]\n",
    "    \n",
    "    # Call the model to get a response\n",
    "    response = chat_completion_request(messages, functions=functions)\n",
    "    response_message = response['choices'][0]['message']\n",
    "    \n",
    "    if is_log:\n",
    "        print(response['choices'])\n",
    "    \n",
    "    # check if GPT wanted to call a function\n",
    "    if response_message.get(\"function_call\"):\n",
    "        function_name = response_message['function_call']['name']\n",
    "        function_args = json.loads(response_message['function_call']['arguments'])\n",
    "        \n",
    "        # Call the function\n",
    "        function_response = available_functions[function_name](**function_args)\n",
    "        \n",
    "        # Add the response to the conversation\n",
    "        messages.append(response_message)\n",
    "        messages.append({\n",
    "            \"role\": \"function\",\n",
    "            \"name\": function_name,\n",
    "            \"content\": function_response,\n",
    "        })\n",
    "        \n",
    "        # Call the model again to summarize the results\n",
    "        second_response = chat_completion_request(messages)\n",
    "        final_message = second_response['choices'][0]['message']['content']\n",
    "    else:\n",
    "        final_message = response_message['content']\n",
    "\n",
    "    return final_message"
   ]
  },
  {
   "cell_type": "markdown",
   "id": "2069a3a8",
   "metadata": {},
   "source": [
    "#### s3 bucket bot testing"
   ]
  },
  {
   "cell_type": "code",
   "execution_count": 11,
   "id": "a8cafc30",
   "metadata": {},
   "outputs": [
    {
     "name": "stdout",
     "output_type": "stream",
     "text": [
      "Here are your S3 buckets along with their creation dates:\n",
      "\n",
      "1. \"bakcup-ahm-test\" - Creation Date: 2023-06-17T15:34:07+00:00\n",
      "2. \"elasticbeanstalk-eu-west-1-576659633313\" - Creation Date: 2023-03-17T20:55:33+00:00\n",
      "3. \"illinois-paper\" - Creation Date: 2023-06-17T13:28:45+00:00\n",
      "4. \"sagemaker-studio-576659633313-jtlwwq35m9e\" - Creation Date: 2023-03-31T20:15:15+00:00\n",
      "5. \"sagemaker-studio-l12jf4ctxw\" - Creation Date: 2023-03-31T20:08:22+00:00\n"
     ]
    }
   ],
   "source": [
    "print(run_manual_conversation('list my s3 buckets'))"
   ]
  },
  {
   "cell_type": "code",
   "execution_count": 18,
   "id": "c5a18e3a",
   "metadata": {},
   "outputs": [
    {
     "name": "stdout",
     "output_type": "stream",
     "text": [
      "I found the file \"reflections.zip\" in the following S3 buckets:\n",
      "\n",
      "1. Bucket: \"bakcup-ahm-test\", Last Modified: \"2023-06-17T16:05:16+00:00\", Size: 4862255 bytes, Storage Class: STANDARD\n",
      "2. Bucket: \"illinois-paper\", Last Modified: \"2023-06-17T12:38:24+00:00\", Size: 4862255 bytes, Storage Class: STANDARD\n"
     ]
    }
   ],
   "source": [
    "print(run_manual_conversation('search for a file reflections.zip in all buckets'))"
   ]
  },
  {
   "cell_type": "code",
   "execution_count": 13,
   "id": "afc2d6e6",
   "metadata": {},
   "outputs": [
    {
     "name": "stdout",
     "output_type": "stream",
     "text": [
      "It seems like you want to search for a file name that contains the word \"reflection\". However, I need to know the name of the S3 bucket in which we should perform this search. Could you please provide that? Also, let me know if you want to restrict the search under a specific folder path in that bucket.\n"
     ]
    }
   ],
   "source": [
    "print(run_manual_conversation('search for a contains reflection', is_log=False))"
   ]
  },
  {
   "cell_type": "code",
   "execution_count": 14,
   "id": "c58d7372",
   "metadata": {},
   "outputs": [
    {
     "name": "stdout",
     "output_type": "stream",
     "text": [
      "Sure, to help me find what you're looking for, could you please provide the name of the file you want to search for and the name of the S3 bucket? Also, should the search match the file name exactly, or should it also consider partial matches?\n"
     ]
    }
   ],
   "source": [
    "print(run_manual_conversation('search for a file'))"
   ]
  },
  {
   "cell_type": "code",
   "execution_count": 15,
   "id": "baaedf21",
   "metadata": {},
   "outputs": [
    {
     "name": "stdout",
     "output_type": "stream",
     "text": [
      "Apologies for the misunderstanding, but I am only able to assist with S3 bucket functions. Can you please ask a question related to S3 bucket functions?\n"
     ]
    }
   ],
   "source": [
    "print(run_manual_conversation('what is the weather today'))"
   ]
  },
  {
   "cell_type": "code",
   "execution_count": 16,
   "id": "7c9bc251",
   "metadata": {},
   "outputs": [
    {
     "name": "stdout",
     "output_type": "stream",
     "text": [
      "I have successfully downloaded the file \"Reflections.zip\" from the \"illinois-paper\" bucket to the \"./resource\" folder.\n"
     ]
    }
   ],
   "source": [
    "print(run_manual_conversation('download Reflections.zip from illinois-paper bucket to current directory and download to ./resource folder'))"
   ]
  },
  {
   "cell_type": "code",
   "execution_count": 17,
   "id": "0078875c",
   "metadata": {},
   "outputs": [
    {
     "name": "stdout",
     "output_type": "stream",
     "text": [
      "The file `Reflections.zip` is successfully uploaded to the `bakcup-ahm-test` bucket.\n"
     ]
    }
   ],
   "source": [
    "print(run_manual_conversation('upload ./resource/Reflections.zip to bakcup-ahm-test bucket'))"
   ]
  },
  {
   "cell_type": "code",
   "execution_count": null,
   "id": "c7e30cc7",
   "metadata": {},
   "outputs": [],
   "source": []
  },
  {
   "cell_type": "markdown",
   "id": "1b1d35a3",
   "metadata": {},
   "source": [
    "MIT License\n",
    "\n",
    "Copyright (c) 2023 Albarqawi"
   ]
  }
 ],
 "metadata": {
  "kernelspec": {
   "display_name": "auto env",
   "language": "python",
   "name": "auto"
  },
  "language_info": {
   "codemirror_mode": {
    "name": "ipython",
    "version": 3
   },
   "file_extension": ".py",
   "mimetype": "text/x-python",
   "name": "python",
   "nbconvert_exporter": "python",
   "pygments_lexer": "ipython3",
   "version": "3.11.4"
  }
 },
 "nbformat": 4,
 "nbformat_minor": 5
}
